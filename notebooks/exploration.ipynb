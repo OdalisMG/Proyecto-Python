{
 "cells": [
  {
   "cell_type": "code",
   "execution_count": 1,
   "metadata": {},
   "outputs": [
    {
     "name": "stdout",
     "output_type": "stream",
     "text": [
      "Basic Statistics\n",
      "            price\n",
      "count    3.000000\n",
      "mean   189.990000\n",
      "std    182.482876\n",
      "min     69.990000\n",
      "25%     84.990000\n",
      "50%     99.990000\n",
      "75%    249.990000\n",
      "max    399.990000\n",
      "Productos mas Caros: \n",
      "               title                                        description  \\\n",
      "0   Asus VivoBook...  Asus VivoBook E502NA-GO022T Dark Blue, 15.6\" H...   \n",
      "1  Iconia B1-730H...      Black, 7\", 1.6GHz Dual-Core, 8GB, Android 4.4   \n",
      "2     Lenovo IdeaTab                                 7\" screen, Android   \n",
      "\n",
      "    price  \n",
      "0  399.99  \n",
      "1   99.99  \n",
      "2   69.99  \n",
      "Index(['title', 'description', 'price'], dtype='object')\n"
     ]
    },
    {
     "data": {
      "image/png": "[encoded data removed]",
      "text/plain": [
       "<Figure size 640x480 with 1 Axes>"
      ]
     },
     "metadata": {},
     "output_type": "display_data"
    },
    {
     "data": {
      "text/plain": [
       "<Figure size 1000x600 with 0 Axes>"
      ]
     },
     "metadata": {},
     "output_type": "display_data"
    }
   ],
   "source": [
    "import pandas as pd\n",
    "import matplotlib.pyplot as plt \n",
    "\n",
    "\n",
    "data_path = \"../data/processed/cleaned_products.csv\"\n",
    "df = pd.read_csv(data_path)\n",
    "\n",
    "\n",
    "print(\"Basic Statistics\") \n",
    "print(df.describe())\n",
    "\n",
    "plt.hist(df[\"price\"], bins=20, edgecolor=\"black\") \n",
    "plt.title(\"Distribucion de precios\") \n",
    "plt.xlabel(\"Precio\") \n",
    "plt.ylabel(\"Frecuencia\") \n",
    "\n",
    "print(\"Productos mas Caros: \") \n",
    "highestPrice= df.nlargest(5,'price')\n",
    "print(highestPrice)\n",
    "\n",
    "plt.figure(figsize=(10, 6))  # Ajusta el tamaño según necesites\n",
    "print(df.columns)\n",
    "df = pd.read_csv(data_path)\n",
    "    \n",
    "    \n",
    "    \n",
    "\n",
    "\n",
    "\n"
   ]
  },
  {
   "cell_type": "code",
   "execution_count": 13,
   "metadata": {},
   "outputs": [
    {
     "ename": "ModuleNotFoundError",
     "evalue": "No module named 'src'",
     "output_type": "error",
     "traceback": [
      "\u001b[1;31m---------------------------------------------------------------------------\u001b[0m",
      "\u001b[1;31mModuleNotFoundError\u001b[0m                       Traceback (most recent call last)",
      "Cell \u001b[1;32mIn[13], line 4\u001b[0m\n\u001b[0;32m      2\u001b[0m \u001b[38;5;28;01mimport\u001b[39;00m \u001b[38;5;21;01mmatplotlib\u001b[39;00m\u001b[38;5;21;01m.\u001b[39;00m\u001b[38;5;21;01mpyplot\u001b[39;00m \u001b[38;5;28;01mas\u001b[39;00m \u001b[38;5;21;01mplt\u001b[39;00m\n\u001b[0;32m      3\u001b[0m \u001b[38;5;28;01mimport\u001b[39;00m \u001b[38;5;21;01mseaborn\u001b[39;00m \u001b[38;5;28;01mas\u001b[39;00m \u001b[38;5;21;01msns\u001b[39;00m\n\u001b[1;32m----> 4\u001b[0m \u001b[38;5;28;01mfrom\u001b[39;00m \u001b[38;5;21;01msrc\u001b[39;00m\u001b[38;5;21;01m.\u001b[39;00m\u001b[38;5;21;01mscraping\u001b[39;00m\u001b[38;5;21;01m.\u001b[39;00m\u001b[38;5;21;01mscraper\u001b[39;00m \u001b[38;5;28;01mimport\u001b[39;00m scrape\n\u001b[0;32m      6\u001b[0m base_url \u001b[38;5;241m=\u001b[39m \u001b[38;5;124m\"\u001b[39m\u001b[38;5;124mhttps://tiendamia.com/ec/search?q=product\u001b[39m\u001b[38;5;124m\"\u001b[39m\n\u001b[0;32m      8\u001b[0m df \u001b[38;5;241m=\u001b[39m scrape(base_url)\n",
      "\u001b[1;31mModuleNotFoundError\u001b[0m: No module named 'src'"
     ]
    }
   ],
   "source": [
    "\n",
    "import pandas as pd\n",
    "import matplotlib.pyplot as plt\n",
    "import seaborn as sns\n",
    "from src.scraping.scraper import scrape\n",
    "\n",
    "base_url = \"https://tiendamia.com/ec/search?q=product\"\n",
    "\n",
    "df = scrape(base_url)\n",
    "\n",
    "df.head()\n",
    "\n",
    "plt.figure(figsize=(10, 6))\n",
    "sns.histplot(df['price'], bins=20)\n",
    "plt.title('Distribución de Precios')\n",
    "plt.xlabel('Precio')\n",
    "plt.ylabel('Frecuencia')\n",
    "plt.show()\n"
   ]
  }
 ],
 "metadata": {
  "kernelspec": {
   "display_name": "Python 3",
   "language": "python",
   "name": "python3"
  },
  "language_info": {
   "codemirror_mode": {
    "name": "ipython",
    "version": 3
   },
   "file_extension": ".py",
   "mimetype": "text/x-python",
   "name": "python",
   "nbconvert_exporter": "python",
   "pygments_lexer": "ipython3",
   "version": "3.12.3"
  }
 },
 "nbformat": 4,
 "nbformat_minor": 2
}
